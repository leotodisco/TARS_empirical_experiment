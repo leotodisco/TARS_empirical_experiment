{
 "cells": [
  {
   "cell_type": "code",
   "execution_count": 12,
   "id": "1bace4d9",
   "metadata": {},
   "outputs": [
    {
     "data": {
      "text/plain": [
       "dict_keys(['samples'])"
      ]
     },
     "execution_count": 12,
     "metadata": {},
     "output_type": "execute_result"
    }
   ],
   "source": [
    "import json\n",
    "\n",
    "with open(\"./data/java_subset.json\", \"r\") as subset_f:\n",
    "    ds = json.load(subset_f)\n",
    "\n",
    "ds.keys()"
   ]
  },
  {
   "cell_type": "code",
   "execution_count": 13,
   "id": "ffae28da",
   "metadata": {},
   "outputs": [],
   "source": [
    "for idx, entry in enumerate(ds[\"samples\"]):\n",
    "    with open(f\"./output_files/scripts/java/{idx}.java\", \"w\") as f:\n",
    "        f.write(ds[\"samples\"][idx][\"original_string\"])\n",
    "\n",
    "\n",
    "for idx, entry in enumerate(ds[\"samples\"]):\n",
    "    with open(f\"./output_files/explanations/java/{idx}.txt\", \"w\") as f:\n",
    "        f.write(ds[\"samples\"][idx][\"docstring\"])\n"
   ]
  },
  {
   "cell_type": "code",
   "execution_count": null,
   "id": "82c514e7",
   "metadata": {},
   "outputs": [],
   "source": []
  }
 ],
 "metadata": {
  "kernelspec": {
   "display_name": "env",
   "language": "python",
   "name": "python3"
  },
  "language_info": {
   "codemirror_mode": {
    "name": "ipython",
    "version": 3
   },
   "file_extension": ".py",
   "mimetype": "text/x-python",
   "name": "python",
   "nbconvert_exporter": "python",
   "pygments_lexer": "ipython3",
   "version": "3.11.11"
  }
 },
 "nbformat": 4,
 "nbformat_minor": 5
}
