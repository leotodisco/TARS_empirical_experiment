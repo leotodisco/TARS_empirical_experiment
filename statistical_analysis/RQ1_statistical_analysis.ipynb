{
 "cells": [
  {
   "cell_type": "code",
   "execution_count": null,
   "id": "f103ab40",
   "metadata": {},
   "outputs": [],
   "source": [
    "import pandas as pd\n",
    "import numpy as np\n",
    "import scipy\n",
    "import os\n",
    "\n",
    "RQ1_DATA_FOLDER_PATH = \"../experiment_data/RQ1_data/\"\n",
    "\n",
    "subfolders = [f for f in os.listdir(RQ1_DATA_FOLDER_PATH)\n",
    "              if os.path.isdir(os.path.join(RQ1_DATA_FOLDER_PATH, f))]\n",
    "\n",
    "rq_1_df = pd.DataFrame()\n",
    "\n",
    "for folder in subfolders:\n",
    "    xlsx_files = [f for f in os.listdir(\n",
    "        RQ1_DATA_FOLDER_PATH+folder) if f.endswith(\".xlsx\")]\n",
    "    for xlsx_file in xlsx_files:\n",
    "        xlsx_file_path = RQ1_DATA_FOLDER_PATH + f\"{folder}/{xlsx_file}\"\n",
    "        temp_df = pd.read_excel(xlsx_file_path)\n",
    "        temp_df[\"participant\"] = folder\n",
    "        rq_1_df = pd.concat([rq_1_df, temp_df], ignore_index=True)\n",
    "\n"
   ]
  },
  {
   "cell_type": "markdown",
   "id": "1a397421",
   "metadata": {},
   "source": [
    "### Data Cleaning"
   ]
  },
  {
   "cell_type": "code",
   "execution_count": null,
   "id": "0e9fede2",
   "metadata": {},
   "outputs": [],
   "source": [
    "column_name_mapper = {\n",
    "    \"Tempo di completamento\": \"tempo_completamento\", \n",
    "    \"Tool usato?\": \"tool_used\"\n",
    "}\n",
    "\n",
    "rq_1_df = rq_1_df.rename(columns=column_name_mapper)    "
   ]
  },
  {
   "cell_type": "code",
   "execution_count": null,
   "id": "0194c62a",
   "metadata": {},
   "outputs": [],
   "source": [
    "import pandas as pd\n",
    "import re\n",
    "\n",
    "def normalize_time(x):\n",
    "    if pd.isna(x):\n",
    "        return None\n",
    "    \n",
    "    # Converti in stringa e ripulisci\n",
    "    s = str(x).strip().replace('\"', '').replace(\"'\", \"\")\n",
    "    \n",
    "    # Separa con \":\" invece di \".\"\n",
    "    s = s.replace(\".\", \":\")\n",
    "    \n",
    "    # Caso: HH:MM:SS\n",
    "    if re.match(r\"^\\d{1,2}:\\d{1,2}:\\d{1,2}$\", s):\n",
    "        h, m, sec = s.split(\":\")\n",
    "        if h == \"00\":\n",
    "            total_seconds = int(m) * 60 + int(sec)    \n",
    "        else:\n",
    "            total_seconds = int(h) * 60 + int(m)\n",
    "    \n",
    "    # Caso: M:SS,ms → ignoro millisecondi\n",
    "    elif re.match(r\"^\\d{1,2}:\\d{1,2},\\d+$\", s):\n",
    "        m, rest = s.split(\":\")\n",
    "        sec = rest.split(\",\")[0]\n",
    "        total_seconds = int(m) * 60 + int(sec)\n",
    "    \n",
    "    # Caso: M:SS\n",
    "    elif re.match(r\"^\\d{1,2}:\\d{1,2}$\", s):\n",
    "        m, sec = s.split(\":\")\n",
    "        total_seconds = int(m) * 60 + int(sec)\n",
    "    \n",
    "    # Caso: solo numero (minuti)\n",
    "    elif s.isdigit():\n",
    "        total_seconds = int(s) * 60\n",
    "    \n",
    "    else:\n",
    "        return \"None\"\n",
    "    \n",
    "    # Conversione in formato MM:SS\n",
    "    minutes, seconds = divmod(total_seconds, 60)\n",
    "    return f\"{minutes:02d}:{seconds:02d}\""
   ]
  },
  {
   "cell_type": "code",
   "execution_count": null,
   "id": "643f36a9",
   "metadata": {},
   "outputs": [],
   "source": [
    "def count_seconds(x):\n",
    "    if pd.isna(x):\n",
    "        return None\n",
    "    time: str = x\n",
    "    m, sec = time.split(\":\")\n",
    "    m = int(m)\n",
    "    sec = int(sec)\n",
    "    return m*60 + sec\n"
   ]
  },
  {
   "cell_type": "code",
   "execution_count": null,
   "id": "0955c094",
   "metadata": {},
   "outputs": [],
   "source": [
    "rq_1_df.columns"
   ]
  },
  {
   "cell_type": "code",
   "execution_count": null,
   "id": "7619870a",
   "metadata": {},
   "outputs": [],
   "source": [
    "rq_1_df[\"tempo_completamento_normalized\"] = rq_1_df[\"tempo_completamento\"].apply(normalize_time)"
   ]
  },
  {
   "cell_type": "code",
   "execution_count": null,
   "id": "bbce1d3d",
   "metadata": {},
   "outputs": [],
   "source": [
    "righe_na = rq_1_df[rq_1_df[\"tempo_completamento_normalized\"].isna()]"
   ]
  },
  {
   "cell_type": "code",
   "execution_count": null,
   "id": "bf6d5ba1",
   "metadata": {},
   "outputs": [],
   "source": [
    "rq_1_df = rq_1_df.dropna(axis=0)"
   ]
  },
  {
   "cell_type": "code",
   "execution_count": null,
   "id": "ac617a71",
   "metadata": {},
   "outputs": [],
   "source": [
    "rq_1_df[\"tempo_completamento_normalized_seconds\"] = rq_1_df[\"tempo_completamento_normalized\"].apply(count_seconds)"
   ]
  },
  {
   "cell_type": "markdown",
   "id": "4e935bd0",
   "metadata": {},
   "source": [
    "### Save Dataframe as csv"
   ]
  },
  {
   "cell_type": "code",
   "execution_count": null,
   "id": "082098ca",
   "metadata": {},
   "outputs": [],
   "source": [
    "#rq_1_df.to_csv(f\"{RQ1_DATA_FOLDER_PATH}/all_data_cleaned.csv\")"
   ]
  },
  {
   "cell_type": "markdown",
   "id": "7b9c5084",
   "metadata": {},
   "source": [
    "### Check Script 1 "
   ]
  },
  {
   "cell_type": "code",
   "execution_count": null,
   "id": "ca1db3dc",
   "metadata": {},
   "outputs": [],
   "source": [
    "tool_used_df_script1 = rq_1_df[rq_1_df[\"tool_used\"]==True]\n",
    "tool_used_df_script1.describe()"
   ]
  },
  {
   "cell_type": "code",
   "execution_count": null,
   "id": "8cded0fc",
   "metadata": {},
   "outputs": [],
   "source": [
    "tool_not_used_df_script1 = rq_1_df[rq_1_df[\"tool_used\"]==False]\n",
    "tool_not_used_df_script1.describe()"
   ]
  },
  {
   "cell_type": "code",
   "execution_count": null,
   "id": "80ec3408",
   "metadata": {},
   "outputs": [],
   "source": [
    "from scipy.stats import shapiro\n",
    "\n",
    "shapiro(tool_used_df_script1[\"tempo_completamento_normalized_seconds\"])"
   ]
  },
  {
   "cell_type": "code",
   "execution_count": null,
   "id": "256b7f0c",
   "metadata": {},
   "outputs": [],
   "source": [
    "shapiro(tool_not_used_df_script1[\"tempo_completamento_normalized_seconds\"])"
   ]
  },
  {
   "cell_type": "code",
   "execution_count": null,
   "id": "99a559d0",
   "metadata": {},
   "outputs": [],
   "source": [
    "from scipy.stats import mannwhitneyu\n",
    "\n",
    "stat, p_value = mannwhitneyu(\n",
    "    tool_used_df_script1[\"tempo_completamento_normalized_seconds\"],\n",
    "    tool_not_used_df_script1[\"tempo_completamento_normalized_seconds\"],\n",
    "    #alternative=\"two-sided\"  # due code, per testare differenze in entrambe le direzioni\n",
    ")\n",
    "\n",
    "print(\"Statistic:\", stat)\n",
    "print(\"p-value:\", p_value)\n",
    "\n",
    "if p_value < 0.05:\n",
    "    print(\"Possiamo rigettare ipotesi nulla\")\n",
    "else:\n",
    "    print(\"NON Possiamo rigettare ipotesi nulla\")"
   ]
  },
  {
   "cell_type": "code",
   "execution_count": null,
   "id": "906d48d5",
   "metadata": {},
   "outputs": [],
   "source": []
  }
 ],
 "metadata": {
  "kernelspec": {
   "display_name": "env",
   "language": "python",
   "name": "python3"
  },
  "language_info": {
   "codemirror_mode": {
    "name": "ipython",
    "version": 3
   },
   "file_extension": ".py",
   "mimetype": "text/x-python",
   "name": "python",
   "nbconvert_exporter": "python",
   "pygments_lexer": "ipython3",
   "version": "3.11.11"
  }
 },
 "nbformat": 4,
 "nbformat_minor": 5
}
