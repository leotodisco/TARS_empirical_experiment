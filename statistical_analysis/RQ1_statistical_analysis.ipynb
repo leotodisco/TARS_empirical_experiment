{
 "cells": [
  {
   "cell_type": "code",
   "execution_count": null,
   "id": "f103ab40",
   "metadata": {},
   "outputs": [],
   "source": [
    "import pandas as pd\n",
    "import numpy as np\n",
    "import scipy\n",
    "import os\n",
    "\n",
    "RQ1_DATA_FOLDER_PATH = \"../experiment_data/RQ1_data/\"\n",
    "\n",
    "subfolders = [f for f in os.listdir(RQ1_DATA_FOLDER_PATH)\n",
    "              if os.path.isdir(os.path.join(RQ1_DATA_FOLDER_PATH, f))]\n",
    "\n",
    "rq_1_df = pd.DataFrame()\n",
    "\n",
    "for folder in subfolders:\n",
    "    xlsx_files = [f for f in os.listdir(\n",
    "        RQ1_DATA_FOLDER_PATH+folder) if f.endswith(\".xlsx\")]\n",
    "    for xlsx_file in xlsx_files:\n",
    "        xlsx_file_path = RQ1_DATA_FOLDER_PATH + f\"{folder}/{xlsx_file}\"\n",
    "        temp_df = pd.read_excel(xlsx_file_path)\n",
    "        temp_df[\"participant\"] = folder\n",
    "        rq_1_df = pd.concat([rq_1_df, temp_df], ignore_index=True)\n"
   ]
  },
  {
   "cell_type": "code",
   "execution_count": 3,
   "id": "ca919ed5",
   "metadata": {},
   "outputs": [],
   "source": [
    "code_snippets = {\n",
    "    1: \"\"\"public void cleanCache(File dir, Formatter sbuff, boolean isRoot) {\n",
    "    long now = System.currentTimeMillis();\n",
    "    File[] files = dir.listFiles();\n",
    "    if (files == null) {\n",
    "      throw new IllegalStateException( \"DiskCache2: not a directory or I/O error on dir=\"+dir.getAbsolutePath());\n",
    "    }\n",
    "\n",
    "    \n",
    "    if (!isRoot && (files.length == 0)) {\n",
    "      long duration = now - dir.lastModified();\n",
    "      duration /= 1000 * 60;\n",
    "      if (duration > persistMinutes) {\n",
    "        boolean ok = dir.delete();\n",
    "        if (!ok)\n",
    "          cacheLog.error(\"Unable to delete file \" + dir.getAbsolutePath());\n",
    "        if (sbuff != null)\n",
    "          sbuff.format(\" deleted %s %s lastModified= %s%n\", ok, dir.getPath(), CalendarDate.of(dir.lastModified()));\n",
    "      }\n",
    "      return;\n",
    "    }\n",
    "\n",
    "    \n",
    "    for (File file : files) {\n",
    "      if (file.isDirectory()) {\n",
    "        cleanCache(file, sbuff, false);\n",
    "      } else {\n",
    "        long duration = now - file.lastModified();\n",
    "        duration /= 1000 * 60;\n",
    "        if (duration > persistMinutes) {\n",
    "          boolean ok = file.delete();\n",
    "          if (!ok)\n",
    "            cacheLog.error(\"Unable to delete file \" + file.getAbsolutePath());\n",
    "          if (sbuff != null)\n",
    "            sbuff.format(\" deleted %s %s lastModified= %s%n\", ok, file.getPath(), CalendarDate.of(file.lastModified()));\n",
    "        }\n",
    "      }\n",
    "    }\n",
    "  }\"\"\",\n",
    "    2: \"\"\"public boolean[] asBoolArray() {\n",
    "        boolean[] retval;\n",
    "        UBArray array = asArray();\n",
    "        switch(array.getStrongType()){\n",
    "            case Int8: {\n",
    "                byte[] data = ((UBInt8Array) array).getValues();\n",
    "                retval = new boolean[data.length];\n",
    "                for (int i = 0; i < data.length; i++) {\n",
    "                    retval[i] = data[i] > 0;\n",
    "                }\n",
    "                break;\n",
    "            }\n",
    "\n",
    "            case Int16: {\n",
    "                short[] data = ((UBInt16Array) array).getValues();\n",
    "                retval = new boolean[data.length];\n",
    "                for (int i = 0; i < data.length; i++) {\n",
    "                    retval[i] = data[i] > 0;\n",
    "                }\n",
    "                break;\n",
    "            }\n",
    "\n",
    "            case Int32: {\n",
    "                int[] data = ((UBInt32Array)array).getValues();\n",
    "                retval = new boolean[data.length];\n",
    "                for (int i = 0; i < data.length; i++) {\n",
    "                    retval[i] = data[i] > 0;\n",
    "                }\n",
    "                break;\n",
    "            }\n",
    "\n",
    "            case Int64: {\n",
    "                long[] data = ((UBInt64Array)array).getValues();\n",
    "                retval = new boolean[data.length];\n",
    "                for (int i = 0; i < data.length; i++) {\n",
    "                    retval[i] = data[i] > 0;\n",
    "                }\n",
    "                break;\n",
    "            }\n",
    "\n",
    "            case Float32: {\n",
    "                float[] data = ((UBFloat32Array) array).getValues();\n",
    "                retval = new boolean[data.length];\n",
    "                for (int i = 0; i < data.length; i++) {\n",
    "                    retval[i] = data[i] > 0;\n",
    "                }\n",
    "                break;\n",
    "            }\n",
    "\n",
    "            case Float64: {\n",
    "                double[] data = ((UBFloat64Array) array).getValues();\n",
    "                retval = new boolean[data.length];\n",
    "                for (int i = 0; i < data.length; i++) {\n",
    "                    retval[i] = data[i] > 0;\n",
    "                }\n",
    "                break;\n",
    "            }\n",
    "\n",
    "\n",
    "            default:\n",
    "                throw new RuntimeException(\"not an int32[] type\");\n",
    "        }\n",
    "\n",
    "        return retval;\n",
    "    }\"\"\",\n",
    "    3: \"\"\"Acquire a FileCacheable from the cache, and lock it so no one else can use it.\n",
    "If not already in cache, open it with FileFactory, and put in cache.\n",
    "<p/>\n",
    "Call FileCacheable.close() when done, (rather than FileCacheIF.release() directly) and the file is then released instead of closed.\n",
    "<p/>\n",
    "If cache size goes over maxElement, then immediately (actually in 100 msec) schedule a cleanup in a background thread.\n",
    "This means that the cache should never get much larger than maxElement, unless you have them all locked.\n",
    "\n",
    "@param factory     use this factory to open the file if not in the cache; may not be null\n",
    "@param hashKey     unique key for this file. If null, the location will be used\n",
    "@param location    file location, may also used as the cache name, will be passed to the NetcdfFileFactory\n",
    "@param buffer_size RandomAccessFile buffer size, if <= 0, use default size\n",
    "@param cancelTask  user can cancel, ok to be null.\n",
    "@param spiObject   sent to iosp.setSpecial() if not null\n",
    "@return FileCacheable corresponding to location.\n",
    "@throws IOException on error\"\"\",\n",
    "    4: \"\"\"public static boolean print(NetcdfFile nc, String command, Writer out, ucar.nc2.util.CancelTask ct)\n",
    "          throws IOException {\n",
    "    WantValues showValues = WantValues.none;\n",
    "    boolean ncml = false;\n",
    "    boolean strict = false;\n",
    "    String varNames = null;\n",
    "    String trueDataset = null;\n",
    "    String fakeDataset = null;\n",
    "\n",
    "    if (command != null) {\n",
    "      StringTokenizer stoke = new StringTokenizer(command);\n",
    "\n",
    "      while (stoke.hasMoreTokens()) {\n",
    "        String toke = stoke.nextToken();\n",
    "        if (toke.equalsIgnoreCase(\"-help\")) {\n",
    "          out.write(usage);\n",
    "          out.write('\\n');\n",
    "          return true;\n",
    "        }\n",
    "        if (toke.equalsIgnoreCase(\"-vall\"))\n",
    "          showValues = WantValues.all;\n",
    "        if (toke.equalsIgnoreCase(\"-c\") && (showValues == WantValues.none))\n",
    "          showValues = WantValues.coordsOnly;\n",
    "        if (toke.equalsIgnoreCase(\"-ncml\"))\n",
    "          ncml = true;\n",
    "        if (toke.equalsIgnoreCase(\"-cdl\") || toke.equalsIgnoreCase(\"-strict\"))\n",
    "          strict = true;\n",
    "        if(toke.equalsIgnoreCase(\"-v\") && stoke.hasMoreTokens())\n",
    "          varNames = stoke.nextToken();\n",
    "        if (toke.equalsIgnoreCase(\"-datasetname\") && stoke.hasMoreTokens()) {\n",
    "          fakeDataset = stoke.nextToken();\n",
    "          if(fakeDataset.length() == 0) fakeDataset = null;\n",
    "          if(fakeDataset != null) {\n",
    "            trueDataset = nc.getLocation();\n",
    "            nc.setLocation(fakeDataset);\n",
    "          }\n",
    "        }\n",
    "      }\n",
    "    }\n",
    "\n",
    "    boolean ok = print(nc, out, showValues, ncml, strict, varNames, ct);\n",
    "    if(trueDataset != null && fakeDataset != null)\n",
    "      nc.setLocation(trueDataset);\n",
    "    return ok;\n",
    "  }\"\"\"\n",
    "}"
   ]
  },
  {
   "cell_type": "markdown",
   "id": "1a397421",
   "metadata": {},
   "source": [
    "### Data Cleaning"
   ]
  },
  {
   "cell_type": "code",
   "execution_count": 4,
   "id": "0e9fede2",
   "metadata": {},
   "outputs": [],
   "source": [
    "column_name_mapper = {\n",
    "    \"Tempo di completamento\": \"tempo_completamento\", \n",
    "    \"Tool usato?\": \"tool_used\"\n",
    "}\n",
    "\n",
    "rq_1_df = rq_1_df.rename(columns=column_name_mapper)    "
   ]
  },
  {
   "cell_type": "code",
   "execution_count": 5,
   "id": "0194c62a",
   "metadata": {},
   "outputs": [],
   "source": [
    "import pandas as pd\n",
    "import re\n",
    "\n",
    "def normalize_time(x):\n",
    "    if pd.isna(x):\n",
    "        return None\n",
    "    \n",
    "    # Converti in stringa e ripulisci\n",
    "    s = str(x).strip().replace('\"', '').replace(\"'\", \"\")\n",
    "    \n",
    "    # Separa con \":\" invece di \".\"\n",
    "    s = s.replace(\".\", \":\")\n",
    "    \n",
    "    # Caso: HH:MM:SS\n",
    "    if re.match(r\"^\\d{1,2}:\\d{1,2}:\\d{1,2}$\", s):\n",
    "        h, m, sec = s.split(\":\")\n",
    "        if h == \"00\":\n",
    "            total_seconds = int(m) * 60 + int(sec)    \n",
    "        else:\n",
    "            total_seconds = int(h) * 60 + int(m)\n",
    "    \n",
    "    # Caso: M:SS,ms → ignoro millisecondi\n",
    "    elif re.match(r\"^\\d{1,2}:\\d{1,2},\\d+$\", s):\n",
    "        m, rest = s.split(\":\")\n",
    "        sec = rest.split(\",\")[0]\n",
    "        total_seconds = int(m) * 60 + int(sec)\n",
    "    \n",
    "    # Caso: M:SS\n",
    "    elif re.match(r\"^\\d{1,2}:\\d{1,2}$\", s):\n",
    "        m, sec = s.split(\":\")\n",
    "        total_seconds = int(m) * 60 + int(sec)\n",
    "    \n",
    "    # Caso: solo numero (minuti)\n",
    "    elif s.isdigit():\n",
    "        total_seconds = int(s) * 60\n",
    "    \n",
    "    else:\n",
    "        return \"None\"\n",
    "    \n",
    "    # Conversione in formato MM:SS\n",
    "    minutes, seconds = divmod(total_seconds, 60)\n",
    "    return f\"{minutes:02d}:{seconds:02d}\""
   ]
  },
  {
   "cell_type": "code",
   "execution_count": 6,
   "id": "643f36a9",
   "metadata": {},
   "outputs": [],
   "source": [
    "def count_seconds(x):\n",
    "    if pd.isna(x):\n",
    "        return None\n",
    "    time: str = x\n",
    "    m, sec = time.split(\":\")\n",
    "    m = int(m)\n",
    "    sec = int(sec)\n",
    "    return m*60 + sec\n"
   ]
  },
  {
   "cell_type": "code",
   "execution_count": 7,
   "id": "0955c094",
   "metadata": {},
   "outputs": [
    {
     "data": {
      "text/plain": [
       "Index(['Script', 'Descrizione', 'tempo_completamento', 'tool_used',\n",
       "       'participant'],\n",
       "      dtype='object')"
      ]
     },
     "execution_count": 7,
     "metadata": {},
     "output_type": "execute_result"
    }
   ],
   "source": [
    "rq_1_df.columns"
   ]
  },
  {
   "cell_type": "code",
   "execution_count": 8,
   "id": "7619870a",
   "metadata": {},
   "outputs": [],
   "source": [
    "rq_1_df[\"tempo_completamento_normalized\"] = rq_1_df[\"tempo_completamento\"].apply(normalize_time)"
   ]
  },
  {
   "cell_type": "code",
   "execution_count": 9,
   "id": "bbce1d3d",
   "metadata": {},
   "outputs": [],
   "source": [
    "righe_na = rq_1_df[rq_1_df[\"tempo_completamento_normalized\"].isna()]"
   ]
  },
  {
   "cell_type": "code",
   "execution_count": 10,
   "id": "bf6d5ba1",
   "metadata": {},
   "outputs": [],
   "source": [
    "rq_1_df = rq_1_df.dropna(axis=0)"
   ]
  },
  {
   "cell_type": "code",
   "execution_count": 11,
   "id": "ac617a71",
   "metadata": {},
   "outputs": [],
   "source": [
    "rq_1_df[\"tempo_completamento_normalized_seconds\"] = rq_1_df[\"tempo_completamento_normalized\"].apply(count_seconds)"
   ]
  },
  {
   "cell_type": "markdown",
   "id": "4e935bd0",
   "metadata": {},
   "source": [
    "### Save Dataframe as csv"
   ]
  },
  {
   "cell_type": "code",
   "execution_count": 12,
   "id": "082098ca",
   "metadata": {},
   "outputs": [],
   "source": [
    "rq_1_df.to_csv(f\"{RQ1_DATA_FOLDER_PATH}/all_data_cleaned.csv\")"
   ]
  },
  {
   "cell_type": "markdown",
   "id": "7b9c5084",
   "metadata": {},
   "source": [
    "### Check Script 1 "
   ]
  },
  {
   "cell_type": "code",
   "execution_count": 13,
   "id": "12050ec5",
   "metadata": {},
   "outputs": [
    {
     "data": {
      "text/plain": [
       "array([ True, False])"
      ]
     },
     "execution_count": 13,
     "metadata": {},
     "output_type": "execute_result"
    }
   ],
   "source": [
    "rq_1_df[\"tool_used\"].unique()"
   ]
  },
  {
   "cell_type": "code",
   "execution_count": 14,
   "id": "ca1db3dc",
   "metadata": {},
   "outputs": [
    {
     "data": {
      "text/html": [
       "<div>\n",
       "<style scoped>\n",
       "    .dataframe tbody tr th:only-of-type {\n",
       "        vertical-align: middle;\n",
       "    }\n",
       "\n",
       "    .dataframe tbody tr th {\n",
       "        vertical-align: top;\n",
       "    }\n",
       "\n",
       "    .dataframe thead th {\n",
       "        text-align: right;\n",
       "    }\n",
       "</style>\n",
       "<table border=\"1\" class=\"dataframe\">\n",
       "  <thead>\n",
       "    <tr style=\"text-align: right;\">\n",
       "      <th></th>\n",
       "      <th>Script</th>\n",
       "      <th>tempo_completamento_normalized_seconds</th>\n",
       "    </tr>\n",
       "  </thead>\n",
       "  <tbody>\n",
       "    <tr>\n",
       "      <th>count</th>\n",
       "      <td>30.000000</td>\n",
       "      <td>30.000000</td>\n",
       "    </tr>\n",
       "    <tr>\n",
       "      <th>mean</th>\n",
       "      <td>2.366667</td>\n",
       "      <td>234.366667</td>\n",
       "    </tr>\n",
       "    <tr>\n",
       "      <th>std</th>\n",
       "      <td>1.159171</td>\n",
       "      <td>121.306248</td>\n",
       "    </tr>\n",
       "    <tr>\n",
       "      <th>min</th>\n",
       "      <td>1.000000</td>\n",
       "      <td>36.000000</td>\n",
       "    </tr>\n",
       "    <tr>\n",
       "      <th>25%</th>\n",
       "      <td>1.000000</td>\n",
       "      <td>142.500000</td>\n",
       "    </tr>\n",
       "    <tr>\n",
       "      <th>50%</th>\n",
       "      <td>2.000000</td>\n",
       "      <td>217.500000</td>\n",
       "    </tr>\n",
       "    <tr>\n",
       "      <th>75%</th>\n",
       "      <td>3.000000</td>\n",
       "      <td>298.750000</td>\n",
       "    </tr>\n",
       "    <tr>\n",
       "      <th>max</th>\n",
       "      <td>4.000000</td>\n",
       "      <td>510.000000</td>\n",
       "    </tr>\n",
       "  </tbody>\n",
       "</table>\n",
       "</div>"
      ],
      "text/plain": [
       "          Script  tempo_completamento_normalized_seconds\n",
       "count  30.000000                               30.000000\n",
       "mean    2.366667                              234.366667\n",
       "std     1.159171                              121.306248\n",
       "min     1.000000                               36.000000\n",
       "25%     1.000000                              142.500000\n",
       "50%     2.000000                              217.500000\n",
       "75%     3.000000                              298.750000\n",
       "max     4.000000                              510.000000"
      ]
     },
     "execution_count": 14,
     "metadata": {},
     "output_type": "execute_result"
    }
   ],
   "source": [
    "tool_used_df_script1 = rq_1_df[rq_1_df[\"tool_used\"]==True]\n",
    "tool_used_df_script1.describe()"
   ]
  },
  {
   "cell_type": "code",
   "execution_count": 15,
   "id": "8cded0fc",
   "metadata": {},
   "outputs": [
    {
     "data": {
      "text/html": [
       "<div>\n",
       "<style scoped>\n",
       "    .dataframe tbody tr th:only-of-type {\n",
       "        vertical-align: middle;\n",
       "    }\n",
       "\n",
       "    .dataframe tbody tr th {\n",
       "        vertical-align: top;\n",
       "    }\n",
       "\n",
       "    .dataframe thead th {\n",
       "        text-align: right;\n",
       "    }\n",
       "</style>\n",
       "<table border=\"1\" class=\"dataframe\">\n",
       "  <thead>\n",
       "    <tr style=\"text-align: right;\">\n",
       "      <th></th>\n",
       "      <th>Script</th>\n",
       "      <th>tempo_completamento_normalized_seconds</th>\n",
       "    </tr>\n",
       "  </thead>\n",
       "  <tbody>\n",
       "    <tr>\n",
       "      <th>count</th>\n",
       "      <td>34.000000</td>\n",
       "      <td>34.000000</td>\n",
       "    </tr>\n",
       "    <tr>\n",
       "      <th>mean</th>\n",
       "      <td>2.617647</td>\n",
       "      <td>330.411765</td>\n",
       "    </tr>\n",
       "    <tr>\n",
       "      <th>std</th>\n",
       "      <td>1.101368</td>\n",
       "      <td>205.745373</td>\n",
       "    </tr>\n",
       "    <tr>\n",
       "      <th>min</th>\n",
       "      <td>1.000000</td>\n",
       "      <td>45.000000</td>\n",
       "    </tr>\n",
       "    <tr>\n",
       "      <th>25%</th>\n",
       "      <td>2.000000</td>\n",
       "      <td>234.000000</td>\n",
       "    </tr>\n",
       "    <tr>\n",
       "      <th>50%</th>\n",
       "      <td>3.000000</td>\n",
       "      <td>299.500000</td>\n",
       "    </tr>\n",
       "    <tr>\n",
       "      <th>75%</th>\n",
       "      <td>3.750000</td>\n",
       "      <td>386.500000</td>\n",
       "    </tr>\n",
       "    <tr>\n",
       "      <th>max</th>\n",
       "      <td>4.000000</td>\n",
       "      <td>1188.000000</td>\n",
       "    </tr>\n",
       "  </tbody>\n",
       "</table>\n",
       "</div>"
      ],
      "text/plain": [
       "          Script  tempo_completamento_normalized_seconds\n",
       "count  34.000000                               34.000000\n",
       "mean    2.617647                              330.411765\n",
       "std     1.101368                              205.745373\n",
       "min     1.000000                               45.000000\n",
       "25%     2.000000                              234.000000\n",
       "50%     3.000000                              299.500000\n",
       "75%     3.750000                              386.500000\n",
       "max     4.000000                             1188.000000"
      ]
     },
     "execution_count": 15,
     "metadata": {},
     "output_type": "execute_result"
    }
   ],
   "source": [
    "tool_not_used_df_script1 = rq_1_df[rq_1_df[\"tool_used\"]==False]\n",
    "tool_not_used_df_script1.describe()"
   ]
  },
  {
   "cell_type": "code",
   "execution_count": 142,
   "id": "0090dc3d",
   "metadata": {},
   "outputs": [
    {
     "name": "stderr",
     "output_type": "stream",
     "text": [
      "/var/folders/fx/zsdh_8412glbjpkff1h6xdlh0000gn/T/ipykernel_49903/4267010227.py:6: MatplotlibDeprecationWarning: The 'labels' parameter of boxplot() has been renamed 'tick_labels' since Matplotlib 3.9; support for the old name will be dropped in 3.11.\n",
      "  bp = plt.boxplot(\n"
     ]
    },
    {
     "data": {
      "image/png": "[encoded data removed]",
      "text/plain": [
       "<Figure size 1000x600 with 1 Axes>"
      ]
     },
     "metadata": {},
     "output_type": "display_data"
    }
   ],
   "source": [
    "import matplotlib.pyplot as plt\n",
    "\n",
    "plt.figure(figsize=(10, 6))\n",
    "\n",
    "# Crea il boxplot\n",
    "bp = plt.boxplot(\n",
    "    [tool_not_used_df_script1[\"tempo_completamento_normalized_seconds\"],\n",
    "     tool_used_df_script1[\"tempo_completamento_normalized_seconds\"]],\n",
    "    labels=[\"Tool Not Used\", \"Tool Used\"],\n",
    "    patch_artist=True,\n",
    "    medianprops=dict(color='#D32F2F', linewidth=2.5),\n",
    "    whiskerprops=dict(color='#424242', linewidth=1.5),\n",
    "    capprops=dict(color='#424242', linewidth=1.5),\n",
    "    flierprops=dict(marker='o', markerfacecolor='#FF5252', markersize=5, linestyle='none', markeredgecolor='#D32F2F', alpha=0.6)\n",
    ")\n",
    "\n",
    "# Colori più leggibili e professionali\n",
    "colors = ['#BBDEFB', '#C8E6C9']  # Blu pastello e verde pastello\n",
    "edge_colors = ['#1565C0', '#2E7D32']  # Blu intenso e verde intenso\n",
    "\n",
    "for patch, color, edge_color in zip(bp['boxes'], colors, edge_colors):\n",
    "    patch.set_facecolor(color)\n",
    "    patch.set_edgecolor(edge_color)\n",
    "    patch.set_linewidth(2)\n",
    "\n",
    "plt.ylabel(\"Completion Time (seconds)\", fontsize=12)\n",
    "plt.title(\"Boxplot - Task Completion Time\", fontsize=14, pad=20)\n",
    "plt.grid(axis='y', alpha=0.3, linestyle='--')\n",
    "plt.tight_layout()\n",
    "plt.savefig(\"../figures/boxplot_tempo_completamento.pdf\", format='pdf', bbox_inches='tight')\n",
    "plt.show()"
   ]
  },
  {
   "cell_type": "code",
   "execution_count": null,
   "id": "7de74e4f",
   "metadata": {},
   "outputs": [],
   "source": []
  },
  {
   "cell_type": "code",
   "execution_count": 16,
   "id": "80ec3408",
   "metadata": {},
   "outputs": [
    {
     "data": {
      "text/plain": [
       "ShapiroResult(statistic=np.float64(0.9662832605535963), pvalue=np.float64(0.44308691512798504))"
      ]
     },
     "execution_count": 16,
     "metadata": {},
     "output_type": "execute_result"
    }
   ],
   "source": [
    "from scipy.stats import shapiro\n",
    "\n",
    "shapiro(tool_used_df_script1[\"tempo_completamento_normalized_seconds\"])"
   ]
  },
  {
   "cell_type": "code",
   "execution_count": 17,
   "id": "256b7f0c",
   "metadata": {},
   "outputs": [
    {
     "data": {
      "text/plain": [
       "ShapiroResult(statistic=np.float64(0.8179726207306985), pvalue=np.float64(5.8190176176840244e-05))"
      ]
     },
     "execution_count": 17,
     "metadata": {},
     "output_type": "execute_result"
    }
   ],
   "source": [
    "shapiro(tool_not_used_df_script1[\"tempo_completamento_normalized_seconds\"])"
   ]
  },
  {
   "cell_type": "code",
   "execution_count": 136,
   "id": "99a559d0",
   "metadata": {},
   "outputs": [
    {
     "name": "stdout",
     "output_type": "stream",
     "text": [
      "Statistic: 338.5\n",
      "p-value: 0.021405672423244454\n",
      "Possiamo rigettare ipotesi nulla -> TARS migliora i tempi\n"
     ]
    }
   ],
   "source": [
    "from scipy.stats import mannwhitneyu\n",
    "\n",
    "stat, p_value = mannwhitneyu(\n",
    "    tool_used_df_script1[\"tempo_completamento_normalized_seconds\"],\n",
    "    tool_not_used_df_script1[\"tempo_completamento_normalized_seconds\"],\n",
    "    #alternative=\"two-sided\"  # due code, per testare differenze in entrambe le direzioni\n",
    ")\n",
    "\n",
    "print(\"Statistic:\", stat)\n",
    "print(\"p-value:\", p_value)\n",
    "\n",
    "if p_value < 0.05:\n",
    "    print(\"Possiamo rigettare ipotesi nulla -> TARS migliora i tempi\")\n",
    "else:\n",
    "    print(\"NON Possiamo rigettare ipotesi nulla\")"
   ]
  },
  {
   "cell_type": "markdown",
   "id": "ec55ecbd",
   "metadata": {},
   "source": [
    "## Analisi sulla similarità del testo con la docstring"
   ]
  },
  {
   "cell_type": "code",
   "execution_count": 115,
   "id": "e51d6f34",
   "metadata": {},
   "outputs": [],
   "source": [
    "from sentence_transformers import SentenceTransformer\n",
    "\n",
    "#model = SentenceTransformer(\"mixedbread-ai/mxbai-embed-large-v1\")\n",
    "#model = SentenceTransformer('sentence-transformers/all-MiniLM-L6-v2')\n",
    "model = SentenceTransformer(\"intfloat/multilingual-e5-base\")"
   ]
  },
  {
   "cell_type": "markdown",
   "id": "e3989233",
   "metadata": {},
   "source": [
    "```\n",
    "@article{wang2024multilingual,\n",
    "  title={Multilingual E5 Text Embeddings: A Technical Report},\n",
    "  author={Wang, Liang and Yang, Nan and Huang, Xiaolong and Yang, Linjun and Majumder, Rangan and Wei, Furu},\n",
    "  journal={arXiv preprint arXiv:2402.05672},\n",
    "  year={2024}\n",
    "}\n",
    "```"
   ]
  },
  {
   "cell_type": "code",
   "execution_count": 45,
   "id": "4de67715",
   "metadata": {},
   "outputs": [],
   "source": [
    "DATASET_FOLDER_PATH = \"../output_files/explanations/java\"\n",
    "\n",
    "oracles = {}\n",
    "files = [f for f in os.listdir(DATASET_FOLDER_PATH)\n",
    "              if os.path.isfile(os.path.join(DATASET_FOLDER_PATH, f))]\n",
    "\n",
    "\n",
    "for index, file in enumerate(files):\n",
    "    txt_file_path = os.path.join(DATASET_FOLDER_PATH, file)\n",
    "    with open(txt_file_path, \"r\", encoding=\"utf-8\") as f:\n",
    "        file_content = f.read()\n",
    "    oracles[f\"\"\"{file.split(\".txt\")[0]}\"\"\"] = file_content\n"
   ]
  },
  {
   "cell_type": "markdown",
   "id": "6002ddd9",
   "metadata": {},
   "source": [
    "### Translate italian to english"
   ]
  },
  {
   "cell_type": "code",
   "execution_count": 21,
   "id": "c0a0a4c3",
   "metadata": {},
   "outputs": [
    {
     "name": "stderr",
     "output_type": "stream",
     "text": [
      "100%|██████████| 64/64 [03:44<00:00,  3.51s/it]\n"
     ]
    }
   ],
   "source": [
    "import openai\n",
    "from dotenv import load_dotenv\n",
    "import tqdm\n",
    "import os\n",
    "tqdm.tqdm.pandas()\n",
    "\n",
    "load_dotenv(\"../.env\")\n",
    "\n",
    "translate_prompt = \"\"\"You are a smart text translator. Your task is to translate the italian text in english. Provide only the translation, without any introductive text.\n",
    "Italian Text: {italian_description}\"\"\"\n",
    "\n",
    "def translate_description(row):\n",
    "    api_key = os.getenv(\"OPENAI_API_KEY\")\n",
    "    client = openai.OpenAI(api_key=api_key)\n",
    "\n",
    "    prompt = translate_prompt.format(italian_description=row[\"Descrizione\"])\n",
    "\n",
    "    response = client.chat.completions.create(\n",
    "        model=\"gpt-4o-mini\",\n",
    "        messages=[\n",
    "            {\"role\": \"system\", \"content\": \"You are a helpful translation assistant.\"},\n",
    "            {\"role\": \"user\", \"content\": prompt}\n",
    "        ]\n",
    "    )\n",
    "\n",
    "    translated_text = response.choices[0].message.content.strip()\n",
    "    row[\"english_description\"] = translated_text\n",
    "    return row\n",
    "\n",
    "\n",
    "rq_1_df = rq_1_df.progress_apply(translate_description, axis=1) # type: ignore\n"
   ]
  },
  {
   "cell_type": "markdown",
   "id": "9df34534",
   "metadata": {},
   "source": [
    "### LLM EVALUATION"
   ]
  },
  {
   "cell_type": "code",
   "execution_count": 51,
   "id": "ab161376",
   "metadata": {},
   "outputs": [
    {
     "name": "stderr",
     "output_type": "stream",
     "text": [
      "100%|██████████| 64/64 [01:07<00:00,  1.05s/it]\n"
     ]
    }
   ],
   "source": [
    "user_prompt = \"\"\"\n",
    "Your task is to verify whether the user’s explanation correctly matches the Java method’s docstring.\n",
    "In other words, you must check if the explanation is coherent with what the docstring describes.\n",
    "Typically, user explanations are longer, more detailed, and written in a conversational style compared to the concise technical description found in the docstring.\n",
    "\n",
    "Docstring: {docstring}\n",
    "\n",
    "User Explanation: {explanation}\n",
    "\n",
    "Java Code: {code}\n",
    "\n",
    "Never add any other text, respond only with one of the following, without any introductive text: \n",
    "Fully correct\n",
    "Partially correct\n",
    "Not Correct\n",
    "\"\"\"\n",
    "\n",
    "def llm_eval_description(oracle, user_explanation, java_code):\n",
    "    api_key = os.getenv(\"OPENAI_API_KEY\")\n",
    "    client = openai.OpenAI(api_key=api_key)\n",
    "\n",
    "    prompt = user_prompt.format(docstring=oracle, explanation=user_explanation, code=java_code)\n",
    "    \n",
    "\n",
    "    response = client.chat.completions.create(\n",
    "        model=\"gpt-4o\",\n",
    "        messages=[\n",
    "            {\"role\": \"system\", \"content\": prompt}\n",
    "        ]\n",
    "    )\n",
    "\n",
    "    llm_response = response.choices[0].message.content.strip()\n",
    "    return llm_response\n",
    "\n",
    "\n",
    "rq_1_df[\"LLM_response\"] = rq_1_df.progress_apply(\n",
    "    lambda row: llm_eval_description(\n",
    "        oracle=oracles[str(row[\"Script\"])],\n",
    "        user_explanation=row[\"english_description\"],\n",
    "        java_code=code_snippets[row[\"Script\"]]\n",
    "    ),\n",
    "    axis=1\n",
    ")"
   ]
  },
  {
   "cell_type": "code",
   "execution_count": 67,
   "id": "c11db6ba",
   "metadata": {},
   "outputs": [
    {
     "data": {
      "text/plain": [
       "LLM_response\n",
       "Partially correct    20\n",
       "Fully correct         8\n",
       "Not Correct           2\n",
       "Name: count, dtype: int64"
      ]
     },
     "execution_count": 67,
     "metadata": {},
     "output_type": "execute_result"
    }
   ],
   "source": [
    "rq_1_df[rq_1_df[\"tool_used\"]==True][\"LLM_response\"].value_counts()"
   ]
  },
  {
   "cell_type": "code",
   "execution_count": 58,
   "id": "d9fa9707",
   "metadata": {},
   "outputs": [
    {
     "data": {
      "text/plain": [
       "LLM_response\n",
       "Partially correct    28\n",
       "Not Correct           4\n",
       "Fully correct         2\n",
       "Name: count, dtype: int64"
      ]
     },
     "execution_count": 58,
     "metadata": {},
     "output_type": "execute_result"
    }
   ],
   "source": [
    "rq_1_df[rq_1_df[\"tool_used\"]==False][\"LLM_response\"].value_counts()"
   ]
  },
  {
   "cell_type": "markdown",
   "id": "65b8a1a7",
   "metadata": {},
   "source": [
    "### COsine similarity"
   ]
  },
  {
   "cell_type": "code",
   "execution_count": 123,
   "id": "3ea1c997",
   "metadata": {},
   "outputs": [],
   "source": [
    "tool_used_scores = []\n",
    "tool_not_used_scores = []"
   ]
  },
  {
   "cell_type": "code",
   "execution_count": 124,
   "id": "004b00bc",
   "metadata": {},
   "outputs": [],
   "source": [
    "import re\n",
    "import nltk\n",
    "from nltk.corpus import stopwords\n",
    "from nltk.stem import PorterStemmer\n",
    "\n",
    "nltk.download('punkt', quiet=True)\n",
    "nltk.download('stopwords', quiet=True)\n",
    "nltk.download('punkt_tab', quiet=True)\n",
    "\n",
    "stemmer = PorterStemmer()\n",
    "stop_words = set(stopwords.words('english'))\n",
    "\n",
    "def clean_and_stem_sentence(sentence: str) -> str:\n",
    "    sentence = sentence.lower()\n",
    "    sentence = re.sub(r'[^a-z\\s]', '', sentence)\n",
    "    tokens = nltk.word_tokenize(sentence)\n",
    "    stemmed_tokens = [stemmer.stem(t) for t in tokens if t not in stop_words]\n",
    "    return \" \".join(stemmed_tokens)"
   ]
  },
  {
   "cell_type": "code",
   "execution_count": 125,
   "id": "dfa25bb3",
   "metadata": {},
   "outputs": [],
   "source": [
    "def get_similarity(sentences: list[str], oracle: str):\n",
    "    cleaned_sentences = [clean_and_stem_sentence(s) for s in sentences]\n",
    "    cleaned_oracle = clean_and_stem_sentence(oracle)\n",
    "    \n",
    "    embeddings_sentences = model.encode(cleaned_sentences)\n",
    "    embedding_oracle = model.encode([cleaned_oracle])\n",
    "    similarities = model.similarity(embeddings_sentences, embedding_oracle)\n",
    "    return similarities"
   ]
  },
  {
   "cell_type": "code",
   "execution_count": 126,
   "id": "798f48f0",
   "metadata": {},
   "outputs": [
    {
     "data": {
      "text/plain": [
       "(np.float32(0.89394313), np.float32(0.8888914))"
      ]
     },
     "execution_count": 126,
     "metadata": {},
     "output_type": "execute_result"
    }
   ],
   "source": [
    "tool_used_oracle = oracles[\"1\"]\n",
    "tool_used_script1_sentences = rq_1_df[(rq_1_df[\"Script\"] == 1) & (rq_1_df[\"tool_used\"]==True)][\"english_description\"].to_list()\n",
    "tool_used_avg_score = get_similarity(tool_used_script1_sentences, tool_used_oracle).numpy().mean()\n",
    "tool_used_scores.append(tool_used_avg_score)\n",
    "\n",
    "not_tool_used_oracle = oracles[\"1\"]\n",
    "not_tool_used_script1_sentences = rq_1_df[(rq_1_df[\"Script\"] == 1) & (rq_1_df[\"tool_used\"]==False)][\"english_description\"].to_list()\n",
    "not_tool_used_avg_score = get_similarity(not_tool_used_script1_sentences, not_tool_used_oracle).numpy().mean()\n",
    "tool_not_used_scores.append(not_tool_used_avg_score)\n",
    "tool_used_avg_score, not_tool_used_avg_score"
   ]
  },
  {
   "cell_type": "code",
   "execution_count": 127,
   "id": "8a8aaaa9",
   "metadata": {},
   "outputs": [
    {
     "data": {
      "text/plain": [
       "(np.float32(0.8950025), np.float32(0.8860849))"
      ]
     },
     "execution_count": 127,
     "metadata": {},
     "output_type": "execute_result"
    }
   ],
   "source": [
    "tool_used_oracle = oracles[\"2\"]\n",
    "tool_used_script1_sentences = rq_1_df[(rq_1_df[\"Script\"] == 2) & (rq_1_df[\"tool_used\"]==True)][\"english_description\"].to_list()\n",
    "tool_used_avg_score = get_similarity(tool_used_script1_sentences, tool_used_oracle).numpy().mean()\n",
    "tool_used_scores.append(tool_used_avg_score)\n",
    "\n",
    "not_tool_used_oracle = oracles[\"2\"]\n",
    "not_tool_used_script1_sentences = rq_1_df[(rq_1_df[\"Script\"] == 2) & (rq_1_df[\"tool_used\"]==False)][\"english_description\"].to_list()\n",
    "not_tool_used_avg_score = get_similarity(not_tool_used_script1_sentences, not_tool_used_oracle).numpy().mean()\n",
    "tool_not_used_scores.append(not_tool_used_avg_score)\n",
    "\n",
    "tool_used_avg_score, not_tool_used_avg_score"
   ]
  },
  {
   "cell_type": "code",
   "execution_count": 128,
   "id": "7efb8735",
   "metadata": {},
   "outputs": [
    {
     "data": {
      "text/plain": [
       "(np.float32(0.8893404), np.float32(0.88700926))"
      ]
     },
     "execution_count": 128,
     "metadata": {},
     "output_type": "execute_result"
    }
   ],
   "source": [
    "tool_used_oracle = oracles[\"3\"]\n",
    "tool_used_script1_sentences = rq_1_df[(rq_1_df[\"Script\"] == 3) & (rq_1_df[\"tool_used\"]==True)][\"english_description\"].to_list()\n",
    "tool_used_avg_score = get_similarity(tool_used_script1_sentences, tool_used_oracle).numpy().mean()\n",
    "tool_used_scores.append(tool_used_avg_score)\n",
    "\n",
    "not_tool_used_oracle = oracles[\"3\"]\n",
    "not_tool_used_script1_sentences = rq_1_df[(rq_1_df[\"Script\"] == 3) & (rq_1_df[\"tool_used\"]==False)][\"english_description\"].to_list()\n",
    "not_tool_used_avg_score = get_similarity(not_tool_used_script1_sentences, not_tool_used_oracle).numpy().mean()\n",
    "tool_not_used_scores.append(not_tool_used_avg_score)\n",
    "\n",
    "tool_used_avg_score, not_tool_used_avg_score"
   ]
  },
  {
   "cell_type": "code",
   "execution_count": 129,
   "id": "82f726fd",
   "metadata": {},
   "outputs": [
    {
     "data": {
      "text/plain": [
       "(np.float32(0.88339186), np.float32(0.8768607))"
      ]
     },
     "execution_count": 129,
     "metadata": {},
     "output_type": "execute_result"
    }
   ],
   "source": [
    "tool_used_oracle = oracles[\"4\"]\n",
    "tool_used_script1_sentences = rq_1_df[(rq_1_df[\"Script\"] == 4) & (rq_1_df[\"tool_used\"]==True)][\"english_description\"].to_list()\n",
    "tool_used_avg_score = get_similarity(tool_used_script1_sentences, tool_used_oracle).numpy().mean()\n",
    "tool_used_scores.append(tool_used_avg_score)\n",
    "\n",
    "not_tool_used_oracle = oracles[\"4\"]\n",
    "not_tool_used_script1_sentences = rq_1_df[(rq_1_df[\"Script\"] == 4) & (rq_1_df[\"tool_used\"]==False)][\"english_description\"].to_list()\n",
    "not_tool_used_avg_score = get_similarity(not_tool_used_script1_sentences, not_tool_used_oracle).numpy().mean()\n",
    "tool_not_used_scores.append(not_tool_used_avg_score)\n",
    "\n",
    "tool_used_avg_score, not_tool_used_avg_score"
   ]
  },
  {
   "cell_type": "markdown",
   "id": "e40f2780",
   "metadata": {},
   "source": [
    "### Data analysis"
   ]
  },
  {
   "cell_type": "code",
   "execution_count": 143,
   "id": "8d150985",
   "metadata": {},
   "outputs": [
    {
     "data": {
      "text/plain": [
       "ShapiroResult(statistic=np.float64(0.8221664504561355), pvalue=np.float64(0.14828005584780823))"
      ]
     },
     "execution_count": 143,
     "metadata": {},
     "output_type": "execute_result"
    }
   ],
   "source": [
    "from scipy.stats import shapiro\n",
    "\n",
    "shapiro(tool_not_used_scores)"
   ]
  },
  {
   "cell_type": "code",
   "execution_count": 144,
   "id": "89fb9f79",
   "metadata": {},
   "outputs": [
    {
     "data": {
      "text/plain": [
       "ShapiroResult(statistic=np.float64(0.9107568121303344), pvalue=np.float64(0.4864211037231547))"
      ]
     },
     "execution_count": 144,
     "metadata": {},
     "output_type": "execute_result"
    }
   ],
   "source": [
    "from scipy.stats import shapiro\n",
    "\n",
    "shapiro(tool_used_scores)"
   ]
  },
  {
   "cell_type": "code",
   "execution_count": 150,
   "id": "b4f7502e",
   "metadata": {},
   "outputs": [
    {
     "name": "stderr",
     "output_type": "stream",
     "text": [
      "/var/folders/fx/zsdh_8412glbjpkff1h6xdlh0000gn/T/ipykernel_49903/3290989821.py:7: MatplotlibDeprecationWarning: The 'labels' parameter of boxplot() has been renamed 'tick_labels' since Matplotlib 3.9; support for the old name will be dropped in 3.11.\n",
      "  bp_scores = plt.boxplot(\n"
     ]
    },
    {
     "data": {
      "image/png": "[encoded data removed]",
      "text/plain": [
       "<Figure size 800x500 with 1 Axes>"
      ]
     },
     "metadata": {},
     "output_type": "display_data"
    }
   ],
   "source": [
    "import matplotlib.pyplot as plt\n",
    "\n",
    "scores_data = [np.array(tool_not_used_scores), np.array(tool_used_scores)]\n",
    "labels = [\"Tool Not Used\", \"Tool Used\"]\n",
    "\n",
    "plt.figure(figsize=(8, 5))\n",
    "bp_scores = plt.boxplot(\n",
    "    scores_data,\n",
    "    labels=labels,\n",
    "    patch_artist=True,\n",
    "    medianprops=dict(color='#D32F2F', linewidth=2.5),\n",
    "    whiskerprops=dict(color='#424242', linewidth=1.5),\n",
    "    capprops=dict(color='#424242', linewidth=1.5),\n",
    "    flierprops=dict(marker='o', markerfacecolor='#FF5252', markersize=5, linestyle='none', markeredgecolor='#D32F2F', alpha=0.6)\n",
    ")\n",
    "\n",
    "box_colors = ['#BBDEFB', '#C8E6C9']\n",
    "edge_colors = ['#1565C0', '#2E7D32']\n",
    "\n",
    "for patch, color, edge_color in zip(bp_scores['boxes'], box_colors, edge_colors):\n",
    "    patch.set_facecolor(color)\n",
    "    patch.set_edgecolor(edge_color)\n",
    "    patch.set_linewidth(2)\n",
    "\n",
    "plt.ylabel(\"Cosine Similarity Score\", fontsize=12)\n",
    "plt.title(\"Cosine Similarity between Docstring and Provided explanations\", fontsize=14, pad=20)\n",
    "plt.grid(axis='y', alpha=0.3, linestyle='--')\n",
    "plt.tight_layout()\n",
    "\n",
    "\n",
    "plt.savefig(\"../figures/boxplot_cosine_similarity.pdf\", \n",
    "            format='pdf', \n",
    "            bbox_inches='tight',\n",
    "            dpi=300,\n",
    "            facecolor='white',\n",
    "            edgecolor='none')\n",
    "\n",
    "plt.show()"
   ]
  },
  {
   "cell_type": "code",
   "execution_count": 145,
   "id": "bca10185",
   "metadata": {},
   "outputs": [
    {
     "data": {
      "text/plain": [
       "(np.float32(0.8847115), np.float32(0.8904195))"
      ]
     },
     "execution_count": 145,
     "metadata": {},
     "output_type": "execute_result"
    }
   ],
   "source": [
    "np.array(tool_not_used_scores).mean(), np.array(tool_used_scores).mean()"
   ]
  },
  {
   "cell_type": "code",
   "execution_count": 153,
   "id": "8e35c60d",
   "metadata": {},
   "outputs": [
    {
     "name": "stdout",
     "output_type": "stream",
     "text": [
      "Statistic: -1.5154303029167882\n",
      "p-value: 0.18044387043936438\n",
      "NON possiamo rigettare l'ipotesi nulla: differenza non significativa.\n"
     ]
    }
   ],
   "source": [
    "from scipy.stats import ttest_ind\n",
    "\n",
    "stat, p_value = ttest_ind(\n",
    "    tool_not_used_scores,\n",
    "    tool_used_scores,\n",
    "    equal_var=True\n",
    ")\n",
    "\n",
    "print(\"Statistic:\", stat)\n",
    "print(\"p-value:\", p_value)\n",
    "\n",
    "if p_value < 0.05:\n",
    "    print(\"Possiamo rigettare l'ipotesi nulla: differenza significativa tra i gruppi.\")\n",
    "else:\n",
    "    print(\"NON possiamo rigettare l'ipotesi nulla: differenza non significativa.\")"
   ]
  },
  {
   "cell_type": "code",
   "execution_count": null,
   "id": "7129b9ec",
   "metadata": {},
   "outputs": [],
   "source": []
  }
 ],
 "metadata": {
  "kernelspec": {
   "display_name": "env",
   "language": "python",
   "name": "python3"
  },
  "language_info": {
   "codemirror_mode": {
    "name": "ipython",
    "version": 3
   },
   "file_extension": ".py",
   "mimetype": "text/x-python",
   "name": "python",
   "nbconvert_exporter": "python",
   "pygments_lexer": "ipython3",
   "version": "3.11.11"
  }
 },
 "nbformat": 4,
 "nbformat_minor": 5
}
